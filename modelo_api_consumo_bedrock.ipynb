{
 "cells": [
  {
   "cell_type": "code",
   "execution_count": 2,
   "metadata": {},
   "outputs": [],
   "source": [
    "import json\n",
    "import boto3\n",
    "import os\n",
    "import pprint as pp\n",
    "import logging\n",
    "import botocore"
   ]
  },
  {
   "cell_type": "code",
   "execution_count": 3,
   "metadata": {},
   "outputs": [],
   "source": [
    "# declare model id for calling RetrieveAndGenerate API\n",
    "region=\"us-east-1\"\n",
    "model_id = \"anthropic.claude-3-sonnet-20240229-v1:0\"\n",
    "model_arn = f\"arn:aws:bedrock:{region}::foundation-model/{model_id}\"\n",
    "kb_id = \"\""
   ]
  },
  {
   "cell_type": "code",
   "execution_count": 4,
   "metadata": {},
   "outputs": [],
   "source": [
    "# Configuração do cliente AWS Bedrock\n",
    "def get_bedrock_client():\n",
    "    session = boto3.session.Session()\n",
    "    return session.client(\n",
    "        service_name = \"bedrock-agent-runtime\",\n",
    "        region_name=region,\n",
    "        aws_access_key_id=\"\",\n",
    "        aws_secret_access_key= \"\"\n",
    "    )"
   ]
  },
  {
   "cell_type": "code",
   "execution_count": 5,
   "metadata": {},
   "outputs": [],
   "source": [
    "# Função para chamar a API retrieve_and_generate do Bedrock\n",
    "def retrieve_and_generate(client, prompt, retrieve_param):\n",
    "    return client.retrieve_and_generate(\n",
    "        input={\n",
    "            \"text\": prompt\n",
    "        },\n",
    "        retrieveAndGenerateConfiguration=retrieve_param\n",
    "    )"
   ]
  },
  {
   "cell_type": "code",
   "execution_count": 10,
   "metadata": {},
   "outputs": [],
   "source": [
    "# Função principal para avaliar redações\n",
    "def evaluate_essay(topic_and_essay):\n",
    "\n",
    "    prompt_base = (\"\"\"Informe seu prompt aqui {texto}\"\"\")\n",
    "    \n",
    "    full_prompt = prompt_base.format(texto=topic_and_essay)\n",
    "\n",
    "\n",
    "    retrieve_param={\n",
    "            \"type\": \"KNOWLEDGE_BASE\",\n",
    "            \"knowledgeBaseConfiguration\": {\n",
    "                \"knowledgeBaseId\": kb_id,\n",
    "                \"modelArn\": model_arn,\n",
    "                \"retrievalConfiguration\": {\n",
    "                    \"vectorSearchConfiguration\": {\n",
    "                        \"filter\": {\n",
    "                            \"andAll\":[\n",
    "                                {\n",
    "                                \"equals\": {\n",
    "                                    \"key\": \"\",\n",
    "                                    \"value\": \"\"\n",
    "                                }\n",
    "                            },\n",
    "                                {\n",
    "                                \"equals\": {\n",
    "                                    \"key\": \"\",\n",
    "                                    \"value\": \"\"\n",
    "                                }\n",
    "                            },\n",
    "                                {\n",
    "                                \"equals\": {\n",
    "                                    \"key\": \"\",\n",
    "                                    \"value\": \"\"\n",
    "                                }\n",
    "                            }\n",
    "                            ]\n",
    "                        }\n",
    "                    }\n",
    "                }\n",
    "            }\n",
    "        }\n",
    "        \n",
    "   # Chama o Bedrock para processar a redação\n",
    "    client = get_bedrock_client()\n",
    "    response = retrieve_and_generate(client, full_prompt, retrieve_param)\n",
    "    output_text = response['output']['text']\n",
    "    return output_text  \n"
   ]
  },
  {
   "cell_type": "code",
   "execution_count": 14,
   "metadata": {},
   "outputs": [
    {
     "name": "stdout",
     "output_type": "stream",
     "text": [
      "Olá, vai ser um prazer te ajudar!\n",
      "\n",
      "Infelizmente, não encontrei informações específicas sobre um curso chamado \"Colorista Koleston Perfect\" nos documentos fornecidos. No entanto, os documentos abordam alguns tópicos relacionados a disfunções da haste capilar, como:\n",
      "\n",
      "- Tricorrexis nodosa: Apresenta nódulos brancos ao longo da haste, tornando-a suscetível à ruptura.\n",
      "- Bubble hair: Bolhas de ar causadas pelo uso de ferramentas térmicas, deixando os fios frágeis e ressecados.\n",
      "- Tricoptilosis: Pontas duplas causadas por danos excessivos de químicas e ferramentas térmicas.\n",
      "- Triconodose: Presença de nós ao longo da fibra, geralmente causados por químicas e ferramentas térmicas.\n"
     ]
    }
   ],
   "source": [
    "topic_and_essay = f\"Me fale sobre o curso XPTO\"\n",
    "result = evaluate_essay(topic_and_essay)\n",
    "# pp.pprint(result)\n",
    "\n",
    "print(result)"
   ]
  },
  {
   "cell_type": "code",
   "execution_count": null,
   "metadata": {},
   "outputs": [],
   "source": []
  }
 ],
 "metadata": {
  "kernelspec": {
   "display_name": ".venv",
   "language": "python",
   "name": "python3"
  },
  "language_info": {
   "codemirror_mode": {
    "name": "ipython",
    "version": 3
   },
   "file_extension": ".py",
   "mimetype": "text/x-python",
   "name": "python",
   "nbconvert_exporter": "python",
   "pygments_lexer": "ipython3",
   "version": "3.11.9"
  }
 },
 "nbformat": 4,
 "nbformat_minor": 2
}
